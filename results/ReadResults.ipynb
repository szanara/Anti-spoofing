{
 "cells": [
  {
   "cell_type": "code",
   "execution_count": 1,
   "id": "28adbfd7-9b78-4c95-ae5c-d3d4a080fa89",
   "metadata": {},
   "outputs": [
    {
     "name": "stderr",
     "output_type": "stream",
     "text": [
      "/tmp/ipykernel_8630/850908790.py:25: FutureWarning: DataFrame.applymap has been deprecated. Use DataFrame.map instead.\n",
      "  df[cols_to_round] = df[cols_to_round].applymap(round_and_multiply)\n"
     ]
    },
    {
     "name": "stdout",
     "output_type": "stream",
     "text": [
      "\\begin{tabular}{llllll}\n",
      "\\toprule\n",
      "descriptor & FAR_test & FRR_test & HTER & EER & training_time \\\\\n",
      "\\midrule\n",
      "RI-LBP+SIFT & 61.8 & 13.69 & 37.74 & 37.54 & 0h 4m 10.64s \\\\\n",
      "\\bottomrule\n",
      "\\end{tabular}\n",
      "\n"
     ]
    }
   ],
   "source": [
    "import pandas as pd\n",
    "\n",
    "# Leia o arquivo CSV\n",
    "#df = pd.read_csv('results_TrainTest_same_SVM_proposal.csv').drop(columns=['descriptor_dev','descriptor_eval' ])\n",
    "\n",
    "df = pd.read_csv('results_TrainTest_different_SVM_proposal.csv')\n",
    "# Função para converter segundos em horas, minutos e segundos\n",
    "def seconds_to_hms(seconds):\n",
    "    hours = int(seconds // 3600)\n",
    "    minutes = int((seconds % 3600) // 60)\n",
    "    secs = seconds % 60\n",
    "    return f\"{hours}h {minutes}m {secs:.2f}s\"\n",
    "\n",
    "# Aplicar a função de conversão à coluna 'training_time'\n",
    "df['training_time'] = df['training_time'].apply(seconds_to_hms)\n",
    "\n",
    "# Função para multiplicar por 100 e arredondar, exceto a coluna 'training_time'\n",
    "def round_and_multiply(x):\n",
    "    if isinstance(x, (int, float)):\n",
    "        return f\"{x * 100:.2f}\".rstrip('0').rstrip('.')\n",
    "    return x\n",
    "\n",
    "# Aplicar a função apenas às colunas numéricas, exceto 'training_time'\n",
    "cols_to_round = df.columns.difference(['training_time'])\n",
    "df[cols_to_round] = df[cols_to_round].applymap(round_and_multiply)\n",
    "\n",
    "# Converta o DataFrame para uma tabela LaTeX\n",
    "latex_table = df.to_latex(index=False, escape=False)\n",
    "\n",
    "print(latex_table)\n"
   ]
  }
 ],
 "metadata": {
  "kernelspec": {
   "display_name": "Python 3 (ipykernel)",
   "language": "python",
   "name": "python3"
  },
  "language_info": {
   "codemirror_mode": {
    "name": "ipython",
    "version": 3
   },
   "file_extension": ".py",
   "mimetype": "text/x-python",
   "name": "python",
   "nbconvert_exporter": "python",
   "pygments_lexer": "ipython3",
   "version": "3.11.5"
  }
 },
 "nbformat": 4,
 "nbformat_minor": 5
}
